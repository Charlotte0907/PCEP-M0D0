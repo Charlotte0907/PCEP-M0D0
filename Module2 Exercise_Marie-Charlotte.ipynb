{
 "cells": [
  {
   "cell_type": "markdown",
   "metadata": {},
   "source": [
    "## Exercises\n",
    "### Write the pseudocode for these problems. \n",
    "\n",
    "#### Define the problem by constructing an IPO diagram showing input, output, and processing steps\n",
    "Ask yourself\n",
    "- What control structures (sequence, selection and repetition) are required?\n",
    "- What variables are required?\n",
    "\n",
    "Show a check of your solution with **test data** for at least **two valid test cases**\n",
    "If you use the numbers provided in the example then the correct pseudocode will calculate the same result.\n",
    "    "
   ]
  },
  {
   "cell_type": "markdown",
   "metadata": {},
   "source": [
    "#### 1. Find the average score\n",
    "A program is needed to prompt the user operator for exam scores, calculate the average score and display the result to the screen. The average score is calculated as the sum of the scores divided by the number of scores."
   ]
  },
  {
   "cell_type": "markdown",
   "metadata": {},
   "source": [
    "Begin\n",
    "   \n",
    "   prompt exam score 1\n",
    "    get exam score 1\n",
    "    prompt exam score 2\n",
    "    get exam score 2\n",
    "    prompt exam score 3\n",
    "    get exam score 3\n",
    "    prompt exam score n\n",
    "    get exam score n\n",
    "    Average= (exam score 1+ exam score 2+ exam score 3+....exam score n)/number of score\n",
    "    Display average answer\n",
    "    \n",
    "END"
   ]
  },
  {
   "cell_type": "markdown",
   "metadata": {},
   "source": [
    "#### 2. How much water runs off a roof in a rain storm?\n",
    "To calculate the runoff from any given rainfall: Take the dimensions of the footprint of the roof and convert them to inches. (So, a 50' x 20' roof is 600\" x 240\"). Multiply the roof dimensions by the number of inches of rainfall. As an example, 600\" x 240\" x 1\" = 144,000 cubic inches of water for an inch of rainfall. Divide that result by 231 to get the number of gallons (because 1 gallon = 231 cubic inches). (144,000/231 = 623.38)."
   ]
  },
  {
   "cell_type": "markdown",
   "metadata": {},
   "source": [
    "BEGIN\n",
    "    take dimensions of the footprint of the roof\n",
    "    If dimensions are not in inches, convert dimensions in inches\n",
    "        convert=dimension*12\n",
    "    ENDIF\n",
    "    Multiply the dimensions in inches by the number of rainfall in inches  \n",
    "    To obtain result in Gallon, divide the result by 231\n",
    "END\n",
    "   "
   ]
  },
  {
   "cell_type": "markdown",
   "metadata": {},
   "source": [
    "#### 3. Process customer record\n",
    "A program is required to read a customer’s name, a purchase amount and a tax code. The tax code has been validated and will be one of the following: 0 tax exempt (0%) 1 state sales tax only (3%) 2 federal and state sales tax (5%) 3 special sales tax (7%) The program must then compute the sales tax and the total amount due,and print the customer’s name, purchase amount, sales tax and total amount due."
   ]
  },
  {
   "cell_type": "markdown",
   "metadata": {},
   "source": [
    "BEGIN\n",
    "    IF CUSTOMER IS QUALIFIED FOR TAX EXEMPT, \n",
    "        SALES TAX = PURCHASE AMOUNT*0%\n",
    "    ELSE IF CUSTOMER IS QUALIFIED FOR STATE TAX ONLY, \n",
    "        SALES TAX = PURCHASE AMOUNT*3%\n",
    "    ELSE IF CUSTOMER IS QUALIFIED FOR FEDERAL AND STATE TAX, \n",
    "        SALES TAX = PURCHASE AMOUNT*5%\n",
    "    ELSE IF CUSTOMER IS QUALIFIED FOR SPECIAL SALES TAX, \n",
    "        SALES TAX = PURCHASE AMOUNT * 7%\n",
    "    TOTAL AMOUNT DUE = PURCHASE AMOUNT + SALES TAX\n",
    "    PRINT CUSTOMER NAME\n",
    "    PRINT PURCHASE AMOUNT\n",
    "    PRINT SALES TAX\n",
    "    PRINT TOTAL AMOUNT DUE\n",
    "    ENDIF\n",
    "END"
   ]
  },
  {
   "cell_type": "markdown",
   "metadata": {},
   "source": [
    "#### 4. Calculate employee's pay \n",
    "A program is required by a company to read an employee’s number, pay rate and the number of hours worked in a week. The program is then to validate the pay rate field and the hours worked field and, if valid, compute the employee’s weekly pay and then print it and the input data.\n",
    "\n",
    "Validation: According to the company’s rules, the maximum hours an employee can work per week is 60 hours, and the maximum hourly rate is $25.00 per hour. If the hours worked field or the hourly rate field is out of range, the input data and an appropriate message are to be printed and the employee’s weekly pay is not to be calculated.\n",
    "\n",
    "Weekly pay calculation: Weekly pay is calculated as hours worked times pay rate. If more than 35 hours are worked, payment for the overtime hours worked is calculated at time-and-a-half."
   ]
  },
  {
   "cell_type": "markdown",
   "metadata": {},
   "source": [
    "BEGIN\n",
    "    IF X<=60 AND Y<=$25\n",
    "        Weekly pay= X*Y\n",
    "            PRINT WEEKLY PAY\n",
    "            PRINT EMPLOYYEE'S NUMBER\n",
    "            PRINT EMPLOYEE'S PAY RATE\n",
    "            PRINT EMPLOYEE'S NUMBER OF HOURS WORKED IN A WEEK \n",
    "    ENDIF\n",
    "              IF X>60 OR Y >25\n",
    "                  PRINT WEEKLY PAY\n",
    "                  PRINT EMPLOYEE'S NUMBER\n",
    "                  PRINT EMPLOYEE'S PAY RATE\n",
    "                  PRINT EMPLOYEE'S NUMBER OF HOURS WORKED IN A WEEK\n",
    "                  PRINT INVALID!   \n",
    "              ENDIF\n",
    "              \n",
    "              IF X>35 AND X<=60 THEN Y'= Y+(Y/2)\n",
    "                  WEEKLY PAY= X*Y'\n",
    "                  PRINT WEEKLY PAY\n",
    "                  PRINT EMPLOYEE'S NUMBER\n",
    "                  PRINT EMPLOYEE'S PAY RATE\n",
    "                  PRINT EMPLOYEE'S NUMBER OF HOURS WORKED IN A WEEK\n",
    "              ENDIF\n",
    "END\n",
    "\n",
    "        \n",
    "       \n",
    "    \n",
    "   \n",
    "    "
   ]
  }
 ],
 "metadata": {
  "kernelspec": {
   "display_name": "Python 3",
   "language": "python",
   "name": "python3"
  },
  "language_info": {
   "codemirror_mode": {
    "name": "ipython",
    "version": 3
   },
   "file_extension": ".py",
   "mimetype": "text/x-python",
   "name": "python",
   "nbconvert_exporter": "python",
   "pygments_lexer": "ipython3",
   "version": "3.8.8"
  }
 },
 "nbformat": 4,
 "nbformat_minor": 2
}
